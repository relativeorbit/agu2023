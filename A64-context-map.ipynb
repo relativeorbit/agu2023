{
 "cells": [
  {
   "cell_type": "markdown",
   "id": "435e882d-6341-4829-bd9d-1c8a624ccc54",
   "metadata": {},
   "source": [
    "# Timeseries generation with HYP3_ISCE2\n",
    "\n",
    "Single Bust for now Submit 2 interferograms as 'batch job'\n",
    "https://hyp3-docs.asf.alaska.edu/guides/burst_insar_product_guide/"
   ]
  },
  {
   "cell_type": "code",
   "execution_count": 1,
   "id": "c66d50aa-7165-4ef7-943b-e4be82d58f8b",
   "metadata": {},
   "outputs": [],
   "source": [
    "import hyp3_sdk as sdk\n",
    "import asf_search as asf\n",
    "import geopandas as gpd\n",
    "import pandas as pd\n",
    "import os\n",
    "import copy\n",
    "from folium import plugins"
   ]
  },
  {
   "cell_type": "code",
   "execution_count": 2,
   "id": "71356932-5bfb-4a04-8c75-40ae5e3e33c1",
   "metadata": {},
   "outputs": [
    {
     "data": {
      "text/plain": [
       "'6.7.1'"
      ]
     },
     "execution_count": 2,
     "metadata": {},
     "output_type": "execute_result"
    }
   ],
   "source": [
    "asf.__version__"
   ]
  },
  {
   "cell_type": "code",
   "execution_count": 3,
   "id": "b756f958-8180-4224-a38a-aaf50655f89c",
   "metadata": {},
   "outputs": [
    {
     "name": "stdout",
     "output_type": "stream",
     "text": [
      "User:scottyhq Quota:{'max_jobs_per_month': 1000, 'remaining': 516}\n"
     ]
    }
   ],
   "source": [
    "hyp3 = sdk.HyP3() # 'https://hyp3-api.asf.alaska.edu'\n",
    "print('User:{user_id} Quota:{quota}'.format(**hyp3.my_info()))"
   ]
  },
  {
   "cell_type": "markdown",
   "id": "32fd8733-b66e-44c7-9a1f-8865b5771ce8",
   "metadata": {},
   "source": [
    "## Search for acquisitions"
   ]
  },
  {
   "cell_type": "code",
   "execution_count": 4,
   "id": "046b8a48-8bfc-443b-a17e-2000636d7c1c",
   "metadata": {},
   "outputs": [],
   "source": [
    "# https://geojson.io/#new&map=15.23/47.654452/-122.303174\n",
    "gfa = gpd.GeoDataFrame.from_features( {\n",
    "  \"type\": \"FeatureCollection\",\n",
    "  \"features\": [\n",
    "    {\n",
    "      \"type\": \"Feature\",\n",
    "      \"properties\": {},\n",
    "      \"geometry\": {\n",
    "        \"coordinates\": [\n",
    "          -122.29994319751066,\n",
    "          47.657472535245574\n",
    "        ],\n",
    "        \"type\": \"Point\"\n",
    "      }\n",
    "    }\n",
    "  ]\n",
    "},\n",
    " crs=4326   \n",
    ")"
   ]
  },
  {
   "cell_type": "code",
   "execution_count": 5,
   "id": "767295cd-152b-40cc-b24f-8e2ef680aa29",
   "metadata": {},
   "outputs": [
    {
     "name": "stdout",
     "output_type": "stream",
     "text": [
      "244\n"
     ]
    }
   ],
   "source": [
    "results = asf.search(\n",
    "                    platform=[asf.PLATFORM.SENTINEL1],\n",
    "                    processingLevel=asf.BURST,\n",
    "                    beamMode=asf.BEAMMODE.IW,\n",
    "                    #relativeOrbit=relorb,\n",
    "                    polarization='VV',\n",
    "                    flightDirection='ASCENDING',\n",
    "                    intersectsWith=str(gfa.geometry.values[0]),\n",
    "                    start='2019-06-01',\n",
    "                    end='2023-09-01',\n",
    "                    #season=[180,270], #first,last day of year June~30*6=180\n",
    "                    #operaBurstID=['T064_135602_IW1'],\n",
    "                    )\n",
    "print(len(results))\n",
    "\n",
    "gf = gpd.GeoDataFrame.from_features(results.geojson(), crs=4326)"
   ]
  },
  {
   "cell_type": "code",
   "execution_count": 6,
   "id": "07835846-6a53-4766-8d30-83bbd77b530e",
   "metadata": {},
   "outputs": [
    {
     "data": {
      "text/plain": [
       "geometry           POLYGON ((-123.281634 47.700793, -123.231493 4...\n",
       "beamModeType                                                      IW\n",
       "browse                                                          None\n",
       "bytes                                                      160556256\n",
       "centerLat                                                  47.680165\n",
       "centerLon                                                 -122.65681\n",
       "faradayRotation                                                 None\n",
       "fileID                   S1_292399_IW2_20230829T020249_VV_CF75-BURST\n",
       "flightDirection                                            ASCENDING\n",
       "groupID                                S1A_IWDV_0152_0159_050084_137\n",
       "granuleType                                                     None\n",
       "insarStackId                                                    None\n",
       "md5sum                                                          None\n",
       "offNadirAngle                                                   None\n",
       "orbit                                                          50084\n",
       "pathNumber                                                       137\n",
       "platform                                                 SENTINEL-1A\n",
       "pointingAngle                                                   None\n",
       "polarization                                                      VV\n",
       "processingDate                                                  None\n",
       "processingLevel                                                BURST\n",
       "sceneName                S1_292399_IW2_20230829T020249_VV_CF75-BURST\n",
       "sensor                                                         C-SAR\n",
       "startTime                                2023-08-29T02:02:50.144570Z\n",
       "stopTime                                 2023-08-29T02:02:53.252571Z\n",
       "url                https://sentinel1-burst.asf.alaska.edu/S1A_IW_...\n",
       "pgeVersion                                                    003.61\n",
       "fileName            S1_292399_IW2_20230829T020249_VV_CF75-BURST.tiff\n",
       "frameNumber                                                     None\n",
       "burst              {'absoluteBurstID': 107574952, 'relativeBurstI...\n",
       "additionalUrls     [https://sentinel1-burst.asf.alaska.edu/S1A_IW...\n",
       "Name: 0, dtype: object"
      ]
     },
     "execution_count": 6,
     "metadata": {},
     "output_type": "execute_result"
    }
   ],
   "source": [
    "gf.iloc[0]"
   ]
  },
  {
   "cell_type": "code",
   "execution_count": 7,
   "id": "6da6f866-a993-41b1-92dd-eddbc0094cb3",
   "metadata": {},
   "outputs": [
    {
     "data": {
      "text/plain": [
       "burstId\n",
       "064_135602_IW1    122\n",
       "137_292399_IW2    122\n",
       "Name: sceneName, dtype: int64"
      ]
     },
     "execution_count": 7,
     "metadata": {},
     "output_type": "execute_result"
    }
   ],
   "source": [
    "gf['burstId'] = gf.burst.str['fullBurstID']\n",
    "gf.groupby('burstId').sceneName.count()"
   ]
  },
  {
   "cell_type": "code",
   "execution_count": 8,
   "id": "0e7b77cb-5ff9-407e-a9bc-1f1a1b3aa0cb",
   "metadata": {},
   "outputs": [],
   "source": [
    "# Pick a single burst ID to work with\n",
    "burst = '064_135602_IW1'"
   ]
  },
  {
   "cell_type": "code",
   "execution_count": 9,
   "id": "3da0bb03-7a8a-488c-a1e0-22b2585c3068",
   "metadata": {},
   "outputs": [
    {
     "name": "stderr",
     "output_type": "stream",
     "text": [
      "/home/jovyan/.local/envs/hyp3-isce2/lib/python3.11/site-packages/geopandas/geodataframe.py:1538: SettingWithCopyWarning: \n",
      "A value is trying to be set on a copy of a slice from a DataFrame.\n",
      "Try using .loc[row_indexer,col_indexer] = value instead\n",
      "\n",
      "See the caveats in the documentation: https://pandas.pydata.org/pandas-docs/stable/user_guide/indexing.html#returning-a-view-versus-a-copy\n",
      "  super().__setitem__(key, value)\n"
     ]
    }
   ],
   "source": [
    "# Look at timeline of acquisition\n",
    "gfb = gf[gf.burstId == burst]\n",
    "gfb.loc[:,'datetime'] = pd.to_datetime(gfb.startTime)"
   ]
  },
  {
   "cell_type": "code",
   "execution_count": 10,
   "id": "8f3daba6-567e-451e-b792-3fd03d609e38",
   "metadata": {},
   "outputs": [
    {
     "data": {
      "text/html": [
       "<div style=\"width:100%;\"><div style=\"position:relative;width:100%;height:0;padding-bottom:60%;\"><span style=\"color:#565656\">Make this Notebook Trusted to load map: File -> Trust Notebook</span><iframe srcdoc=\"&lt;!DOCTYPE html&gt;\n",
       "&lt;html&gt;\n",
       "&lt;head&gt;\n",
       "    \n",
       "    &lt;meta http-equiv=&quot;content-type&quot; content=&quot;text/html; charset=UTF-8&quot; /&gt;\n",
       "    \n",
       "        &lt;script&gt;\n",
       "            L_NO_TOUCH = false;\n",
       "            L_DISABLE_3D = false;\n",
       "        &lt;/script&gt;\n",
       "    \n",
       "    &lt;style&gt;html, body {width: 100%;height: 100%;margin: 0;padding: 0;}&lt;/style&gt;\n",
       "    &lt;style&gt;#map {position:absolute;top:0;bottom:0;right:0;left:0;}&lt;/style&gt;\n",
       "    &lt;script src=&quot;https://cdn.jsdelivr.net/npm/leaflet@1.9.3/dist/leaflet.js&quot;&gt;&lt;/script&gt;\n",
       "    &lt;script src=&quot;https://code.jquery.com/jquery-1.12.4.min.js&quot;&gt;&lt;/script&gt;\n",
       "    &lt;script src=&quot;https://cdn.jsdelivr.net/npm/bootstrap@5.2.2/dist/js/bootstrap.bundle.min.js&quot;&gt;&lt;/script&gt;\n",
       "    &lt;script src=&quot;https://cdnjs.cloudflare.com/ajax/libs/Leaflet.awesome-markers/2.0.2/leaflet.awesome-markers.js&quot;&gt;&lt;/script&gt;\n",
       "    &lt;link rel=&quot;stylesheet&quot; href=&quot;https://cdn.jsdelivr.net/npm/leaflet@1.9.3/dist/leaflet.css&quot;/&gt;\n",
       "    &lt;link rel=&quot;stylesheet&quot; href=&quot;https://cdn.jsdelivr.net/npm/bootstrap@5.2.2/dist/css/bootstrap.min.css&quot;/&gt;\n",
       "    &lt;link rel=&quot;stylesheet&quot; href=&quot;https://netdna.bootstrapcdn.com/bootstrap/3.0.0/css/bootstrap.min.css&quot;/&gt;\n",
       "    &lt;link rel=&quot;stylesheet&quot; href=&quot;https://cdn.jsdelivr.net/npm/@fortawesome/fontawesome-free@6.2.0/css/all.min.css&quot;/&gt;\n",
       "    &lt;link rel=&quot;stylesheet&quot; href=&quot;https://cdnjs.cloudflare.com/ajax/libs/Leaflet.awesome-markers/2.0.2/leaflet.awesome-markers.css&quot;/&gt;\n",
       "    &lt;link rel=&quot;stylesheet&quot; href=&quot;https://cdn.jsdelivr.net/gh/python-visualization/folium/folium/templates/leaflet.awesome.rotate.min.css&quot;/&gt;\n",
       "    \n",
       "            &lt;meta name=&quot;viewport&quot; content=&quot;width=device-width,\n",
       "                initial-scale=1.0, maximum-scale=1.0, user-scalable=no&quot; /&gt;\n",
       "            &lt;style&gt;\n",
       "                #map_45f8f3ee85fa58a7849e53d396498b47 {\n",
       "                    position: relative;\n",
       "                    width: 100.0%;\n",
       "                    height: 100.0%;\n",
       "                    left: 0.0%;\n",
       "                    top: 0.0%;\n",
       "                }\n",
       "                .leaflet-container { font-size: 1rem; }\n",
       "            &lt;/style&gt;\n",
       "        \n",
       "    \n",
       "                    &lt;style&gt;\n",
       "                        .foliumtooltip {\n",
       "                            \n",
       "                        }\n",
       "                       .foliumtooltip table{\n",
       "                            margin: auto;\n",
       "                        }\n",
       "                        .foliumtooltip tr{\n",
       "                            text-align: left;\n",
       "                        }\n",
       "                        .foliumtooltip th{\n",
       "                            padding: 2px; padding-right: 8px;\n",
       "                        }\n",
       "                    &lt;/style&gt;\n",
       "            \n",
       "    &lt;script src=&quot;https://cdnjs.cloudflare.com/ajax/libs/leaflet-minimap/3.6.1/Control.MiniMap.js&quot;&gt;&lt;/script&gt;\n",
       "    &lt;link rel=&quot;stylesheet&quot; href=&quot;https://cdnjs.cloudflare.com/ajax/libs/leaflet-minimap/3.6.1/Control.MiniMap.css&quot;/&gt;\n",
       "&lt;/head&gt;\n",
       "&lt;body&gt;\n",
       "    \n",
       "    \n",
       "            &lt;div class=&quot;folium-map&quot; id=&quot;map_45f8f3ee85fa58a7849e53d396498b47&quot; &gt;&lt;/div&gt;\n",
       "        \n",
       "&lt;/body&gt;\n",
       "&lt;script&gt;\n",
       "    \n",
       "    \n",
       "            var map_45f8f3ee85fa58a7849e53d396498b47 = L.map(\n",
       "                &quot;map_45f8f3ee85fa58a7849e53d396498b47&quot;,\n",
       "                {\n",
       "                    center: [47.680932999999996, -122.661332],\n",
       "                    crs: L.CRS.EPSG3857,\n",
       "                    zoom: 10,\n",
       "                    zoomControl: true,\n",
       "                    preferCanvas: false,\n",
       "                }\n",
       "            );\n",
       "            L.control.scale().addTo(map_45f8f3ee85fa58a7849e53d396498b47);\n",
       "\n",
       "            \n",
       "\n",
       "        \n",
       "    \n",
       "            var tile_layer_93ac2735ae3bb8f3826c6d642aa902c1 = L.tileLayer(\n",
       "                &quot;https://{s}.tile.openstreetmap.org/{z}/{x}/{y}.png&quot;,\n",
       "                {&quot;attribution&quot;: &quot;Data by \\u0026copy; \\u003ca target=\\&quot;_blank\\&quot; href=\\&quot;http://openstreetmap.org\\&quot;\\u003eOpenStreetMap\\u003c/a\\u003e, under \\u003ca target=\\&quot;_blank\\&quot; href=\\&quot;http://www.openstreetmap.org/copyright\\&quot;\\u003eODbL\\u003c/a\\u003e.&quot;, &quot;detectRetina&quot;: false, &quot;maxNativeZoom&quot;: 18, &quot;maxZoom&quot;: 18, &quot;minZoom&quot;: 0, &quot;noWrap&quot;: false, &quot;opacity&quot;: 1, &quot;subdomains&quot;: &quot;abc&quot;, &quot;tms&quot;: false}\n",
       "            ).addTo(map_45f8f3ee85fa58a7849e53d396498b47);\n",
       "        \n",
       "    \n",
       "            map_45f8f3ee85fa58a7849e53d396498b47.fitBounds(\n",
       "                [[47.516987, -123.281634], [47.844879, -122.04103]],\n",
       "                {}\n",
       "            );\n",
       "        \n",
       "    \n",
       "        function geo_json_b5fc04acb1a5e7e21560fe87c0bf668b_styler(feature) {\n",
       "            switch(feature.id) {\n",
       "                default:\n",
       "                    return {&quot;fillOpacity&quot;: 0.5, &quot;weight&quot;: 2};\n",
       "            }\n",
       "        }\n",
       "        function geo_json_b5fc04acb1a5e7e21560fe87c0bf668b_highlighter(feature) {\n",
       "            switch(feature.id) {\n",
       "                default:\n",
       "                    return {&quot;fillOpacity&quot;: 0.75};\n",
       "            }\n",
       "        }\n",
       "        function geo_json_b5fc04acb1a5e7e21560fe87c0bf668b_pointToLayer(feature, latlng) {\n",
       "            var opts = {&quot;bubblingMouseEvents&quot;: true, &quot;color&quot;: &quot;#3388ff&quot;, &quot;dashArray&quot;: null, &quot;dashOffset&quot;: null, &quot;fill&quot;: true, &quot;fillColor&quot;: &quot;#3388ff&quot;, &quot;fillOpacity&quot;: 0.2, &quot;fillRule&quot;: &quot;evenodd&quot;, &quot;lineCap&quot;: &quot;round&quot;, &quot;lineJoin&quot;: &quot;round&quot;, &quot;opacity&quot;: 1.0, &quot;radius&quot;: 2, &quot;stroke&quot;: true, &quot;weight&quot;: 3};\n",
       "            \n",
       "            let style = geo_json_b5fc04acb1a5e7e21560fe87c0bf668b_styler(feature)\n",
       "            Object.assign(opts, style)\n",
       "            \n",
       "            return new L.CircleMarker(latlng, opts)\n",
       "        }\n",
       "\n",
       "        function geo_json_b5fc04acb1a5e7e21560fe87c0bf668b_onEachFeature(feature, layer) {\n",
       "            layer.on({\n",
       "                mouseout: function(e) {\n",
       "                    if(typeof e.target.setStyle === &quot;function&quot;){\n",
       "                        geo_json_b5fc04acb1a5e7e21560fe87c0bf668b.resetStyle(e.target);\n",
       "                    }\n",
       "                },\n",
       "                mouseover: function(e) {\n",
       "                    if(typeof e.target.setStyle === &quot;function&quot;){\n",
       "                        const highlightStyle = geo_json_b5fc04acb1a5e7e21560fe87c0bf668b_highlighter(e.target.feature)\n",
       "                        e.target.setStyle(highlightStyle);\n",
       "                    }\n",
       "                },\n",
       "            });\n",
       "        };\n",
       "        var geo_json_b5fc04acb1a5e7e21560fe87c0bf668b = L.geoJson(null, {\n",
       "                onEachFeature: geo_json_b5fc04acb1a5e7e21560fe87c0bf668b_onEachFeature,\n",
       "            \n",
       "                style: geo_json_b5fc04acb1a5e7e21560fe87c0bf668b_styler,\n",
       "                pointToLayer: geo_json_b5fc04acb1a5e7e21560fe87c0bf668b_pointToLayer\n",
       "        });\n",
       "\n",
       "        function geo_json_b5fc04acb1a5e7e21560fe87c0bf668b_add (data) {\n",
       "            geo_json_b5fc04acb1a5e7e21560fe87c0bf668b\n",
       "                .addData(data)\n",
       "                .addTo(map_45f8f3ee85fa58a7849e53d396498b47);\n",
       "        }\n",
       "            geo_json_b5fc04acb1a5e7e21560fe87c0bf668b_add({&quot;bbox&quot;: [-123.281634, 47.516987, -122.04103, 47.844879], &quot;features&quot;: [{&quot;bbox&quot;: [-123.281634, 47.516987, -122.04103, 47.844879], &quot;geometry&quot;: {&quot;coordinates&quot;: [[[-123.281634, 47.700793], [-123.231493, 47.516987], [-122.619642, 47.588393], [-122.04103, 47.652631], [-122.088968, 47.844879], [-122.668668, 47.776428], [-123.281634, 47.700793]]], &quot;type&quot;: &quot;Polygon&quot;}, &quot;id&quot;: &quot;0&quot;, &quot;properties&quot;: {&quot;additionalUrls&quot;: [&quot;https://sentinel1-burst.asf.alaska.edu/S1A_IW_SLC__1SDV_20230829T020241_20230829T020308_050084_0606D7_CF75/IW2/VV/2.xml&quot;], &quot;beamModeType&quot;: &quot;IW&quot;, &quot;browse&quot;: null, &quot;burst&quot;: {&quot;absoluteBurstID&quot;: 107574952, &quot;azimuthAnxTime&quot;: &quot;773.8741146637999&quot;, &quot;azimuthTime&quot;: &quot;2023-08-29T02:02:49.112124&quot;, &quot;burstIndex&quot;: 2, &quot;fullBurstID&quot;: &quot;137_292399_IW2&quot;, &quot;relativeBurstID&quot;: 292399, &quot;samplesPerBurst&quot;: 26547, &quot;subswath&quot;: &quot;IW2&quot;}, &quot;burstId&quot;: &quot;137_292399_IW2&quot;, &quot;bytes&quot;: 160556256, &quot;centerLat&quot;: 47.680164854422216, &quot;centerLon&quot;: -122.65681008315268, &quot;faradayRotation&quot;: null, &quot;fileID&quot;: &quot;S1_292399_IW2_20230829T020249_VV_CF75-BURST&quot;, &quot;fileName&quot;: &quot;S1_292399_IW2_20230829T020249_VV_CF75-BURST.tiff&quot;, &quot;flightDirection&quot;: &quot;ASCENDING&quot;, &quot;frameNumber&quot;: null, &quot;granuleType&quot;: null, &quot;groupID&quot;: &quot;S1A_IWDV_0152_0159_050084_137&quot;, &quot;insarStackId&quot;: null, &quot;md5sum&quot;: null, &quot;offNadirAngle&quot;: null, &quot;orbit&quot;: 50084, &quot;pathNumber&quot;: 137, &quot;pgeVersion&quot;: &quot;003.61&quot;, &quot;platform&quot;: &quot;SENTINEL-1A&quot;, &quot;pointingAngle&quot;: null, &quot;polarization&quot;: &quot;VV&quot;, &quot;processingDate&quot;: null, &quot;processingLevel&quot;: &quot;BURST&quot;, &quot;sceneName&quot;: &quot;S1_292399_IW2_20230829T020249_VV_CF75-BURST&quot;, &quot;sensor&quot;: &quot;C-SAR&quot;, &quot;startTime&quot;: &quot;2023-08-29T02:02:50.144570Z&quot;, &quot;stopTime&quot;: &quot;2023-08-29T02:02:53.252571Z&quot;, &quot;url&quot;: &quot;https://sentinel1-burst.asf.alaska.edu/S1A_IW_SLC__1SDV_20230829T020241_20230829T020308_050084_0606D7_CF75/IW2/VV/2.tiff&quot;}, &quot;type&quot;: &quot;Feature&quot;}], &quot;type&quot;: &quot;FeatureCollection&quot;});\n",
       "\n",
       "        \n",
       "    \n",
       "    geo_json_b5fc04acb1a5e7e21560fe87c0bf668b.bindTooltip(\n",
       "    function(layer){\n",
       "    let div = L.DomUtil.create(&#x27;div&#x27;);\n",
       "    \n",
       "    let handleObject = feature=&gt;typeof(feature)==&#x27;object&#x27; ? JSON.stringify(feature) : feature;\n",
       "    let fields = [&quot;beamModeType&quot;, &quot;browse&quot;, &quot;bytes&quot;, &quot;centerLat&quot;, &quot;centerLon&quot;, &quot;faradayRotation&quot;, &quot;fileID&quot;, &quot;flightDirection&quot;, &quot;groupID&quot;, &quot;granuleType&quot;, &quot;insarStackId&quot;, &quot;md5sum&quot;, &quot;offNadirAngle&quot;, &quot;orbit&quot;, &quot;pathNumber&quot;, &quot;platform&quot;, &quot;pointingAngle&quot;, &quot;polarization&quot;, &quot;processingDate&quot;, &quot;processingLevel&quot;, &quot;sceneName&quot;, &quot;sensor&quot;, &quot;startTime&quot;, &quot;stopTime&quot;, &quot;url&quot;, &quot;pgeVersion&quot;, &quot;fileName&quot;, &quot;frameNumber&quot;, &quot;burst&quot;, &quot;additionalUrls&quot;, &quot;burstId&quot;];\n",
       "    let aliases = [&quot;beamModeType&quot;, &quot;browse&quot;, &quot;bytes&quot;, &quot;centerLat&quot;, &quot;centerLon&quot;, &quot;faradayRotation&quot;, &quot;fileID&quot;, &quot;flightDirection&quot;, &quot;groupID&quot;, &quot;granuleType&quot;, &quot;insarStackId&quot;, &quot;md5sum&quot;, &quot;offNadirAngle&quot;, &quot;orbit&quot;, &quot;pathNumber&quot;, &quot;platform&quot;, &quot;pointingAngle&quot;, &quot;polarization&quot;, &quot;processingDate&quot;, &quot;processingLevel&quot;, &quot;sceneName&quot;, &quot;sensor&quot;, &quot;startTime&quot;, &quot;stopTime&quot;, &quot;url&quot;, &quot;pgeVersion&quot;, &quot;fileName&quot;, &quot;frameNumber&quot;, &quot;burst&quot;, &quot;additionalUrls&quot;, &quot;burstId&quot;];\n",
       "    let table = &#x27;&lt;table&gt;&#x27; +\n",
       "        String(\n",
       "        fields.map(\n",
       "        (v,i)=&gt;\n",
       "        `&lt;tr&gt;\n",
       "            &lt;th&gt;${aliases[i]}&lt;/th&gt;\n",
       "            \n",
       "            &lt;td&gt;${handleObject(layer.feature.properties[v])}&lt;/td&gt;\n",
       "        &lt;/tr&gt;`).join(&#x27;&#x27;))\n",
       "    +&#x27;&lt;/table&gt;&#x27;;\n",
       "    div.innerHTML=table;\n",
       "    \n",
       "    return div\n",
       "    }\n",
       "    ,{&quot;className&quot;: &quot;foliumtooltip&quot;, &quot;sticky&quot;: true});\n",
       "                     \n",
       "    \n",
       "            var tile_layer_b698952703b3545978739fce915d9b1c = L.tileLayer(\n",
       "                &quot;https://{s}.tile.openstreetmap.org/{z}/{x}/{y}.png&quot;,\n",
       "                {&quot;attribution&quot;: &quot;Data by \\u0026copy; \\u003ca target=\\&quot;_blank\\&quot; href=\\&quot;http://openstreetmap.org\\&quot;\\u003eOpenStreetMap\\u003c/a\\u003e, under \\u003ca target=\\&quot;_blank\\&quot; href=\\&quot;http://www.openstreetmap.org/copyright\\&quot;\\u003eODbL\\u003c/a\\u003e.&quot;, &quot;detectRetina&quot;: false, &quot;maxNativeZoom&quot;: 18, &quot;maxZoom&quot;: 18, &quot;minZoom&quot;: 0, &quot;noWrap&quot;: false, &quot;opacity&quot;: 1, &quot;subdomains&quot;: &quot;abc&quot;, &quot;tms&quot;: false}\n",
       "            );\n",
       "            var mini_map_73e4bbf162d00bcfaf662cce69dc43f8 = new L.Control.MiniMap(\n",
       "                tile_layer_b698952703b3545978739fce915d9b1c,\n",
       "                {&quot;autoToggleDisplay&quot;: false, &quot;centerFixed&quot;: false, &quot;collapsedHeight&quot;: 25, &quot;collapsedWidth&quot;: 25, &quot;height&quot;: 100, &quot;minimized&quot;: false, &quot;position&quot;: &quot;bottomright&quot;, &quot;toggleDisplay&quot;: false, &quot;width&quot;: 200, &quot;zoomAnimation&quot;: false, &quot;zoomLevelOffset&quot;: -5}\n",
       "            );\n",
       "            map_45f8f3ee85fa58a7849e53d396498b47.addControl(mini_map_73e4bbf162d00bcfaf662cce69dc43f8);\n",
       "        \n",
       "&lt;/script&gt;\n",
       "&lt;/html&gt;\" style=\"position:absolute;width:100%;height:100%;left:0;top:0;border:none !important;\" allowfullscreen webkitallowfullscreen mozallowfullscreen></iframe></div></div>"
      ],
      "text/plain": [
       "<folium.folium.Map at 0x7f67ff371010>"
      ]
     },
     "execution_count": 10,
     "metadata": {},
     "output_type": "execute_result"
    }
   ],
   "source": [
    "m = gf.iloc[[0]].explore()\n",
    "minimap = plugins.MiniMap(width=200, height=100)\n",
    "m.add_child(minimap)"
   ]
  }
 ],
 "metadata": {
  "kernelspec": {
   "display_name": "Python [conda env:.local-hyp3-isce2]",
   "language": "python",
   "name": "conda-env-.local-hyp3-isce2-py"
  },
  "language_info": {
   "codemirror_mode": {
    "name": "ipython",
    "version": 3
   },
   "file_extension": ".py",
   "mimetype": "text/x-python",
   "name": "python",
   "nbconvert_exporter": "python",
   "pygments_lexer": "ipython3",
   "version": "3.11.3"
  }
 },
 "nbformat": 4,
 "nbformat_minor": 5
}
