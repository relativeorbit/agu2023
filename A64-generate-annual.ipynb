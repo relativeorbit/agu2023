{
 "cells": [
  {
   "cell_type": "markdown",
   "id": "435e882d-6341-4829-bd9d-1c8a624ccc54",
   "metadata": {},
   "source": [
    "# Timeseries generation with HYP3_ISCE2\n",
    "\n",
    "Single Bust for now Submit 2 interferograms as 'batch job'\n",
    "https://hyp3-docs.asf.alaska.edu/guides/burst_insar_product_guide/"
   ]
  },
  {
   "cell_type": "code",
   "execution_count": 1,
   "id": "c66d50aa-7165-4ef7-943b-e4be82d58f8b",
   "metadata": {},
   "outputs": [],
   "source": [
    "import hyp3_sdk as sdk\n",
    "import asf_search as asf\n",
    "import geopandas as gpd\n",
    "import pandas as pd\n",
    "import os\n",
    "import copy"
   ]
  },
  {
   "cell_type": "code",
   "execution_count": 2,
   "id": "b756f958-8180-4224-a38a-aaf50655f89c",
   "metadata": {},
   "outputs": [
    {
     "name": "stdout",
     "output_type": "stream",
     "text": [
      "User:scottyhq Quota:{'max_jobs_per_month': 1000, 'remaining': 657}\n"
     ]
    }
   ],
   "source": [
    "hyp3 = sdk.HyP3() # 'https://hyp3-api.asf.alaska.edu'\n",
    "print('User:{user_id} Quota:{quota}'.format(**hyp3.my_info()))"
   ]
  },
  {
   "cell_type": "markdown",
   "id": "32fd8733-b66e-44c7-9a1f-8865b5771ce8",
   "metadata": {},
   "source": [
    "## Search for acquisitions"
   ]
  },
  {
   "cell_type": "code",
   "execution_count": 3,
   "id": "046b8a48-8bfc-443b-a17e-2000636d7c1c",
   "metadata": {},
   "outputs": [],
   "source": [
    "# https://geojson.io/#new&map=15.23/47.654452/-122.303174\n",
    "gfa = gpd.GeoDataFrame.from_features( {\n",
    "  \"type\": \"FeatureCollection\",\n",
    "  \"features\": [\n",
    "    {\n",
    "      \"type\": \"Feature\",\n",
    "      \"properties\": {},\n",
    "      \"geometry\": {\n",
    "        \"coordinates\": [\n",
    "          -122.29994319751066,\n",
    "          47.657472535245574\n",
    "        ],\n",
    "        \"type\": \"Point\"\n",
    "      }\n",
    "    }\n",
    "  ]\n",
    "},\n",
    " crs=4326   \n",
    ")"
   ]
  },
  {
   "cell_type": "code",
   "execution_count": 5,
   "id": "767295cd-152b-40cc-b24f-8e2ef680aa29",
   "metadata": {},
   "outputs": [
    {
     "name": "stdout",
     "output_type": "stream",
     "text": [
      "68\n"
     ]
    }
   ],
   "source": [
    "# HyP3Error: <Response [400]> Only VV and HH polarizations are currently supported, got: VH\n",
    "\n",
    "results = asf.search(\n",
    "                    platform=[asf.PLATFORM.SENTINEL1],\n",
    "                    processingLevel=asf.BURST,\n",
    "                    beamMode=asf.BEAMMODE.IW,\n",
    "                    #relativeOrbit=relorb,\n",
    "                    polarization='VV',\n",
    "                    flightDirection='ASCENDING',\n",
    "                    intersectsWith=str(gfa.geometry.values[0]),\n",
    "                    start='2019-06-01',\n",
    "                    end='2023-09-01',\n",
    "                    season=[180,270], #first,last day of year June~30*6=180\n",
    "                    )\n",
    "gf = gpd.GeoDataFrame.from_features(results.geojson(), crs=4326)\n",
    "print(len(gf))\n",
    "# Useful to fine burstIDs of interest"
   ]
  },
  {
   "cell_type": "code",
   "execution_count": 6,
   "id": "6da6f866-a993-41b1-92dd-eddbc0094cb3",
   "metadata": {},
   "outputs": [
    {
     "data": {
      "text/plain": [
       "burstId\n",
       "064_135602_IW1    33\n",
       "137_292399_IW2    35\n",
       "Name: sceneName, dtype: int64"
      ]
     },
     "execution_count": 6,
     "metadata": {},
     "output_type": "execute_result"
    }
   ],
   "source": [
    "gf['burstId'] = gf.burst.str['fullBurstID']\n",
    "gf.groupby('burstId').sceneName.count()"
   ]
  },
  {
   "cell_type": "code",
   "execution_count": 8,
   "id": "0e7b77cb-5ff9-407e-a9bc-1f1a1b3aa0cb",
   "metadata": {},
   "outputs": [],
   "source": [
    "# Pick a single burst ID to work with\n",
    "burst = '064_135602_IW1'"
   ]
  },
  {
   "cell_type": "code",
   "execution_count": 9,
   "id": "3da0bb03-7a8a-488c-a1e0-22b2585c3068",
   "metadata": {},
   "outputs": [
    {
     "name": "stderr",
     "output_type": "stream",
     "text": [
      "/home/jovyan/.local/envs/hyp3-isce2/lib/python3.11/site-packages/geopandas/geodataframe.py:1538: SettingWithCopyWarning: \n",
      "A value is trying to be set on a copy of a slice from a DataFrame.\n",
      "Try using .loc[row_indexer,col_indexer] = value instead\n",
      "\n",
      "See the caveats in the documentation: https://pandas.pydata.org/pandas-docs/stable/user_guide/indexing.html#returning-a-view-versus-a-copy\n",
      "  super().__setitem__(key, value)\n"
     ]
    }
   ],
   "source": [
    "# Look at timeline of acquisition\n",
    "gfb = gf[gf.burstId == burst]\n",
    "gfb.loc[:,'datetime'] = pd.to_datetime(gfb.startTime)"
   ]
  },
  {
   "cell_type": "code",
   "execution_count": 10,
   "id": "8f3daba6-567e-451e-b792-3fd03d609e38",
   "metadata": {},
   "outputs": [],
   "source": [
    "#gfb.plot.scatter(x='datetime', y=1);"
   ]
  },
  {
   "cell_type": "code",
   "execution_count": 11,
   "id": "56439c5f-ecc6-43aa-8b89-3652a5715a51",
   "metadata": {},
   "outputs": [
    {
     "data": {
      "text/plain": [
       "['S1_135602_IW1_20190803T015332_VV_D562-BURST',\n",
       " 'S1_135602_IW1_20200809T015339_VV_CAFE-BURST',\n",
       " 'S1_135602_IW1_20210804T015344_VV_7959-BURST',\n",
       " 'S1_135602_IW1_20220805T015433_VV_1512-BURST',\n",
       " 'S1_135602_IW1_20230812T015437_VV_8FF9-BURST']"
      ]
     },
     "execution_count": 11,
     "metadata": {},
     "output_type": "execute_result"
    }
   ],
   "source": [
    "subset = gfb.set_index('datetime')\n",
    "subset = subset[subset.index.month == 8] #best odds for good weather \n",
    "\n",
    "# Lots of selection opytion - random, first, last,e tc\n",
    "subset = subset.groupby(subset.index.year).last()\n",
    "subset.fileID.to_list()"
   ]
  },
  {
   "cell_type": "code",
   "execution_count": 12,
   "id": "bcc6c674-795e-4c89-8cfa-e043df8fff23",
   "metadata": {},
   "outputs": [],
   "source": [
    "subset['date'] = pd.to_datetime(subset.startTime) #.dt.strftime('%Y%m%d')"
   ]
  },
  {
   "cell_type": "code",
   "execution_count": 13,
   "id": "4365d325-dea7-4bb4-af88-eb241667dfaa",
   "metadata": {},
   "outputs": [
    {
     "data": {
      "text/plain": [
       "{'name': None,\n",
       " 'job_type': 'INSAR_ISCE_BURST',\n",
       " 'job_parameters': {'granules': [None, None],\n",
       "  'apply_water_mask': True,\n",
       "  'looks': '5x1'}}"
      ]
     },
     "execution_count": 13,
     "metadata": {},
     "output_type": "execute_result"
    }
   ],
   "source": [
    "job_definition = {\n",
    "  \"name\": None,\n",
    "  \"job_type\": \"INSAR_ISCE_BURST\",\n",
    "  \"job_parameters\": {\n",
    "      \"granules\": [None,None],\n",
    "      \"apply_water_mask\": True, #default=False not enabled?\n",
    "      \"looks\": \"5x1\", # '20x4', '10x2', '5x1' default=20x4\n",
    "  },\n",
    "}\n",
    "job_definition"
   ]
  },
  {
   "cell_type": "code",
   "execution_count": 14,
   "id": "8c85522b-749c-4a20-bd4e-2a3758d39fa2",
   "metadata": {},
   "outputs": [],
   "source": [
    "# Create 1-year timespan interferograms\n",
    "jobs = [] # List of job dictionaries\n",
    "\n",
    "for i in range(len(subset)-1):\n",
    "    jobdef = copy.deepcopy(job_definition) \n",
    "    \n",
    "    ref = subset.iloc[i]\n",
    "    sec = subset.iloc[i+1]\n",
    "    jobname = f\"{burst}_{ref.date.strftime('%Y%m%d')}_{sec.date.strftime('%Y%m%d')}_5rlks\"\n",
    "    \n",
    "    jobdef['name'] = jobname\n",
    "    jobdef['job_parameters']['granules'] = [ref.fileID,sec.fileID]\n",
    "    jobs.append(jobdef)"
   ]
  },
  {
   "cell_type": "code",
   "execution_count": 15,
   "id": "2fa2609a-6feb-4021-9606-4bf6d3e432ec",
   "metadata": {},
   "outputs": [
    {
     "data": {
      "text/plain": [
       "[{'name': '064_135602_IW1_20190803_20200809_5rlks',\n",
       "  'job_type': 'INSAR_ISCE_BURST',\n",
       "  'job_parameters': {'granules': ['S1_135602_IW1_20190803T015332_VV_D562-BURST',\n",
       "    'S1_135602_IW1_20200809T015339_VV_CAFE-BURST'],\n",
       "   'apply_water_mask': True,\n",
       "   'looks': '5x1'}},\n",
       " {'name': '064_135602_IW1_20200809_20210804_5rlks',\n",
       "  'job_type': 'INSAR_ISCE_BURST',\n",
       "  'job_parameters': {'granules': ['S1_135602_IW1_20200809T015339_VV_CAFE-BURST',\n",
       "    'S1_135602_IW1_20210804T015344_VV_7959-BURST'],\n",
       "   'apply_water_mask': True,\n",
       "   'looks': '5x1'}},\n",
       " {'name': '064_135602_IW1_20210804_20220805_5rlks',\n",
       "  'job_type': 'INSAR_ISCE_BURST',\n",
       "  'job_parameters': {'granules': ['S1_135602_IW1_20210804T015344_VV_7959-BURST',\n",
       "    'S1_135602_IW1_20220805T015433_VV_1512-BURST'],\n",
       "   'apply_water_mask': True,\n",
       "   'looks': '5x1'}},\n",
       " {'name': '064_135602_IW1_20220805_20230812_5rlks',\n",
       "  'job_type': 'INSAR_ISCE_BURST',\n",
       "  'job_parameters': {'granules': ['S1_135602_IW1_20220805T015433_VV_1512-BURST',\n",
       "    'S1_135602_IW1_20230812T015437_VV_8FF9-BURST'],\n",
       "   'apply_water_mask': True,\n",
       "   'looks': '5x1'}}]"
      ]
     },
     "execution_count": 15,
     "metadata": {},
     "output_type": "execute_result"
    }
   ],
   "source": [
    "# NOTE: should complete in ~20minutes\n",
    "jobs"
   ]
  },
  {
   "cell_type": "code",
   "execution_count": 16,
   "id": "bb9261ad-062e-49ce-9e50-c510e2d9717d",
   "metadata": {},
   "outputs": [],
   "source": [
    "jobs = hyp3.submit_prepared_jobs(jobs)"
   ]
  },
  {
   "cell_type": "code",
   "execution_count": 17,
   "id": "6730b455-92b7-4b9f-88f8-aae6f48c5503",
   "metadata": {},
   "outputs": [],
   "source": [
    "b = hyp3.find_jobs(job_type='INSAR_ISCE_BURST')"
   ]
  },
  {
   "cell_type": "code",
   "execution_count": 18,
   "id": "0b7d144b-b3ec-4de4-bb45-85333c54c643",
   "metadata": {},
   "outputs": [
    {
     "data": {
      "text/html": [
       "<div>\n",
       "<style scoped>\n",
       "    .dataframe tbody tr th:only-of-type {\n",
       "        vertical-align: middle;\n",
       "    }\n",
       "\n",
       "    .dataframe tbody tr th {\n",
       "        vertical-align: top;\n",
       "    }\n",
       "\n",
       "    .dataframe thead th {\n",
       "        text-align: right;\n",
       "    }\n",
       "</style>\n",
       "<table border=\"1\" class=\"dataframe\">\n",
       "  <thead>\n",
       "    <tr style=\"text-align: right;\">\n",
       "      <th></th>\n",
       "      <th>job_id</th>\n",
       "      <th>job_type</th>\n",
       "      <th>request_time</th>\n",
       "      <th>status_code</th>\n",
       "      <th>user_id</th>\n",
       "      <th>name</th>\n",
       "      <th>job_parameters</th>\n",
       "      <th>files</th>\n",
       "      <th>logs</th>\n",
       "      <th>browse_images</th>\n",
       "      <th>thumbnail_images</th>\n",
       "      <th>expiration_time</th>\n",
       "      <th>processing_times</th>\n",
       "    </tr>\n",
       "  </thead>\n",
       "  <tbody>\n",
       "    <tr>\n",
       "      <th>0</th>\n",
       "      <td>952e6f9b-dfe4-46d6-b022-8f313150d994</td>\n",
       "      <td>INSAR_ISCE_BURST</td>\n",
       "      <td>2023-12-09T05:57:41+00:00</td>\n",
       "      <td>PENDING</td>\n",
       "      <td>scottyhq</td>\n",
       "      <td>064_135602_IW1_20220805_20230812_5rlks</td>\n",
       "      <td>{'apply_water_mask': True, 'granules': ['S1_13...</td>\n",
       "      <td>NaN</td>\n",
       "      <td>NaN</td>\n",
       "      <td>NaN</td>\n",
       "      <td>NaN</td>\n",
       "      <td>NaN</td>\n",
       "      <td>NaN</td>\n",
       "    </tr>\n",
       "    <tr>\n",
       "      <th>1</th>\n",
       "      <td>a5de36d9-dc90-4417-965c-73136ff873ee</td>\n",
       "      <td>INSAR_ISCE_BURST</td>\n",
       "      <td>2023-12-09T05:57:41+00:00</td>\n",
       "      <td>PENDING</td>\n",
       "      <td>scottyhq</td>\n",
       "      <td>064_135602_IW1_20200809_20210804_5rlks</td>\n",
       "      <td>{'apply_water_mask': True, 'granules': ['S1_13...</td>\n",
       "      <td>NaN</td>\n",
       "      <td>NaN</td>\n",
       "      <td>NaN</td>\n",
       "      <td>NaN</td>\n",
       "      <td>NaN</td>\n",
       "      <td>NaN</td>\n",
       "    </tr>\n",
       "    <tr>\n",
       "      <th>2</th>\n",
       "      <td>13ce7a4c-23fa-415c-8693-53cf543854a7</td>\n",
       "      <td>INSAR_ISCE_BURST</td>\n",
       "      <td>2023-12-09T05:57:41+00:00</td>\n",
       "      <td>PENDING</td>\n",
       "      <td>scottyhq</td>\n",
       "      <td>064_135602_IW1_20210804_20220805_5rlks</td>\n",
       "      <td>{'apply_water_mask': True, 'granules': ['S1_13...</td>\n",
       "      <td>NaN</td>\n",
       "      <td>NaN</td>\n",
       "      <td>NaN</td>\n",
       "      <td>NaN</td>\n",
       "      <td>NaN</td>\n",
       "      <td>NaN</td>\n",
       "    </tr>\n",
       "    <tr>\n",
       "      <th>3</th>\n",
       "      <td>f8a1bcfd-f435-433b-8f6c-a943ba89400b</td>\n",
       "      <td>INSAR_ISCE_BURST</td>\n",
       "      <td>2023-12-09T05:57:41+00:00</td>\n",
       "      <td>PENDING</td>\n",
       "      <td>scottyhq</td>\n",
       "      <td>064_135602_IW1_20190803_20200809_5rlks</td>\n",
       "      <td>{'apply_water_mask': True, 'granules': ['S1_13...</td>\n",
       "      <td>NaN</td>\n",
       "      <td>NaN</td>\n",
       "      <td>NaN</td>\n",
       "      <td>NaN</td>\n",
       "      <td>NaN</td>\n",
       "      <td>NaN</td>\n",
       "    </tr>\n",
       "    <tr>\n",
       "      <th>4</th>\n",
       "      <td>a226e75f-8b59-404a-8bb2-de78058645f9</td>\n",
       "      <td>INSAR_ISCE_BURST</td>\n",
       "      <td>2023-12-09T05:09:19+00:00</td>\n",
       "      <td>SUCCEEDED</td>\n",
       "      <td>scottyhq</td>\n",
       "      <td>064_135602_IW1_20201008_20200926_5rlks</td>\n",
       "      <td>{'apply_water_mask': True, 'granules': ['S1_13...</td>\n",
       "      <td>[{'filename': 'S1_135602_IW1_20200926_20201008...</td>\n",
       "      <td>[]</td>\n",
       "      <td>[https://d3gm2hf49xd6jj.cloudfront.net/a226e75...</td>\n",
       "      <td>[https://d3gm2hf49xd6jj.cloudfront.net/a226e75...</td>\n",
       "      <td>2023-12-24T00:00:00+00:00</td>\n",
       "      <td>[1298.542]</td>\n",
       "    </tr>\n",
       "    <tr>\n",
       "      <th>...</th>\n",
       "      <td>...</td>\n",
       "      <td>...</td>\n",
       "      <td>...</td>\n",
       "      <td>...</td>\n",
       "      <td>...</td>\n",
       "      <td>...</td>\n",
       "      <td>...</td>\n",
       "      <td>...</td>\n",
       "      <td>...</td>\n",
       "      <td>...</td>\n",
       "      <td>...</td>\n",
       "      <td>...</td>\n",
       "      <td>...</td>\n",
       "    </tr>\n",
       "    <tr>\n",
       "      <th>342</th>\n",
       "      <td>e603568e-dcc5-4340-9ee2-8037ee2acda4</td>\n",
       "      <td>INSAR_ISCE_BURST</td>\n",
       "      <td>2023-12-07T22:09:23+00:00</td>\n",
       "      <td>SUCCEEDED</td>\n",
       "      <td>scottyhq</td>\n",
       "      <td>115_245655_IW3_20220703_20230710_5rlks</td>\n",
       "      <td>{'granules': ['S1_245655_IW3_20220703T141349_V...</td>\n",
       "      <td>[{'filename': 'S1_245655_IW3_20220703_20230710...</td>\n",
       "      <td>[]</td>\n",
       "      <td>[https://d3gm2hf49xd6jj.cloudfront.net/e603568...</td>\n",
       "      <td>[https://d3gm2hf49xd6jj.cloudfront.net/e603568...</td>\n",
       "      <td>2023-12-22T00:00:00+00:00</td>\n",
       "      <td>[1224.588]</td>\n",
       "    </tr>\n",
       "    <tr>\n",
       "      <th>343</th>\n",
       "      <td>e91d2861-a856-41f3-b40a-e923e9d2ad61</td>\n",
       "      <td>INSAR_ISCE_BURST</td>\n",
       "      <td>2023-12-07T22:09:23+00:00</td>\n",
       "      <td>SUCCEEDED</td>\n",
       "      <td>scottyhq</td>\n",
       "      <td>115_245655_IW3_20220703_20230710_5rlks</td>\n",
       "      <td>{'granules': ['S1_245655_IW3_20220703T141349_V...</td>\n",
       "      <td>[{'filename': 'S1_245655_IW3_20220703_20230710...</td>\n",
       "      <td>[]</td>\n",
       "      <td>[https://d3gm2hf49xd6jj.cloudfront.net/e91d286...</td>\n",
       "      <td>[https://d3gm2hf49xd6jj.cloudfront.net/e91d286...</td>\n",
       "      <td>2023-12-22T00:00:00+00:00</td>\n",
       "      <td>[1224.607]</td>\n",
       "    </tr>\n",
       "    <tr>\n",
       "      <th>344</th>\n",
       "      <td>5a804b93-29b6-4859-a21f-b19de7b45b79</td>\n",
       "      <td>INSAR_ISCE_BURST</td>\n",
       "      <td>2023-12-07T21:34:08+00:00</td>\n",
       "      <td>SUCCEEDED</td>\n",
       "      <td>scottyhq</td>\n",
       "      <td>S1_245655_IW3_20220727_20230722_10rlks</td>\n",
       "      <td>{'apply_water_mask': True, 'granules': ['S1_24...</td>\n",
       "      <td>[{'filename': 'S1_245655_IW3_20220727_20230722...</td>\n",
       "      <td>[]</td>\n",
       "      <td>[https://d3gm2hf49xd6jj.cloudfront.net/5a804b9...</td>\n",
       "      <td>[https://d3gm2hf49xd6jj.cloudfront.net/5a804b9...</td>\n",
       "      <td>2023-12-22T00:00:00+00:00</td>\n",
       "      <td>[569.17]</td>\n",
       "    </tr>\n",
       "    <tr>\n",
       "      <th>345</th>\n",
       "      <td>7c2b6d97-219b-4843-bb9a-a9bb0935fbb3</td>\n",
       "      <td>INSAR_ISCE_BURST</td>\n",
       "      <td>2023-12-07T21:28:50+00:00</td>\n",
       "      <td>SUCCEEDED</td>\n",
       "      <td>scottyhq</td>\n",
       "      <td>S1_245655_IW3-test2</td>\n",
       "      <td>{'granules': ['S1_245655_IW3_20220727T141350_V...</td>\n",
       "      <td>[{'filename': 'S1_245655_IW3_20220727_20230722...</td>\n",
       "      <td>[]</td>\n",
       "      <td>[https://d3gm2hf49xd6jj.cloudfront.net/7c2b6d9...</td>\n",
       "      <td>[https://d3gm2hf49xd6jj.cloudfront.net/7c2b6d9...</td>\n",
       "      <td>2023-12-22T00:00:00+00:00</td>\n",
       "      <td>[1111.138]</td>\n",
       "    </tr>\n",
       "    <tr>\n",
       "      <th>346</th>\n",
       "      <td>cfd3566f-dafe-4859-ab05-39a83f86c98d</td>\n",
       "      <td>INSAR_ISCE_BURST</td>\n",
       "      <td>2023-12-07T20:17:02+00:00</td>\n",
       "      <td>SUCCEEDED</td>\n",
       "      <td>scottyhq</td>\n",
       "      <td>S1_245655_IW3-test</td>\n",
       "      <td>{'granules': ['S1_245655_IW3_20220727T141350_V...</td>\n",
       "      <td>[{'filename': 'S1_245655_IW3_20220727_20230722...</td>\n",
       "      <td>[]</td>\n",
       "      <td>[https://d3gm2hf49xd6jj.cloudfront.net/cfd3566...</td>\n",
       "      <td>[https://d3gm2hf49xd6jj.cloudfront.net/cfd3566...</td>\n",
       "      <td>2023-12-22T00:00:00+00:00</td>\n",
       "      <td>[490.117]</td>\n",
       "    </tr>\n",
       "  </tbody>\n",
       "</table>\n",
       "<p>347 rows × 13 columns</p>\n",
       "</div>"
      ],
      "text/plain": [
       "                                   job_id          job_type   \n",
       "0    952e6f9b-dfe4-46d6-b022-8f313150d994  INSAR_ISCE_BURST  \\\n",
       "1    a5de36d9-dc90-4417-965c-73136ff873ee  INSAR_ISCE_BURST   \n",
       "2    13ce7a4c-23fa-415c-8693-53cf543854a7  INSAR_ISCE_BURST   \n",
       "3    f8a1bcfd-f435-433b-8f6c-a943ba89400b  INSAR_ISCE_BURST   \n",
       "4    a226e75f-8b59-404a-8bb2-de78058645f9  INSAR_ISCE_BURST   \n",
       "..                                    ...               ...   \n",
       "342  e603568e-dcc5-4340-9ee2-8037ee2acda4  INSAR_ISCE_BURST   \n",
       "343  e91d2861-a856-41f3-b40a-e923e9d2ad61  INSAR_ISCE_BURST   \n",
       "344  5a804b93-29b6-4859-a21f-b19de7b45b79  INSAR_ISCE_BURST   \n",
       "345  7c2b6d97-219b-4843-bb9a-a9bb0935fbb3  INSAR_ISCE_BURST   \n",
       "346  cfd3566f-dafe-4859-ab05-39a83f86c98d  INSAR_ISCE_BURST   \n",
       "\n",
       "                  request_time status_code   user_id   \n",
       "0    2023-12-09T05:57:41+00:00     PENDING  scottyhq  \\\n",
       "1    2023-12-09T05:57:41+00:00     PENDING  scottyhq   \n",
       "2    2023-12-09T05:57:41+00:00     PENDING  scottyhq   \n",
       "3    2023-12-09T05:57:41+00:00     PENDING  scottyhq   \n",
       "4    2023-12-09T05:09:19+00:00   SUCCEEDED  scottyhq   \n",
       "..                         ...         ...       ...   \n",
       "342  2023-12-07T22:09:23+00:00   SUCCEEDED  scottyhq   \n",
       "343  2023-12-07T22:09:23+00:00   SUCCEEDED  scottyhq   \n",
       "344  2023-12-07T21:34:08+00:00   SUCCEEDED  scottyhq   \n",
       "345  2023-12-07T21:28:50+00:00   SUCCEEDED  scottyhq   \n",
       "346  2023-12-07T20:17:02+00:00   SUCCEEDED  scottyhq   \n",
       "\n",
       "                                       name   \n",
       "0    064_135602_IW1_20220805_20230812_5rlks  \\\n",
       "1    064_135602_IW1_20200809_20210804_5rlks   \n",
       "2    064_135602_IW1_20210804_20220805_5rlks   \n",
       "3    064_135602_IW1_20190803_20200809_5rlks   \n",
       "4    064_135602_IW1_20201008_20200926_5rlks   \n",
       "..                                      ...   \n",
       "342  115_245655_IW3_20220703_20230710_5rlks   \n",
       "343  115_245655_IW3_20220703_20230710_5rlks   \n",
       "344  S1_245655_IW3_20220727_20230722_10rlks   \n",
       "345                     S1_245655_IW3-test2   \n",
       "346                      S1_245655_IW3-test   \n",
       "\n",
       "                                        job_parameters   \n",
       "0    {'apply_water_mask': True, 'granules': ['S1_13...  \\\n",
       "1    {'apply_water_mask': True, 'granules': ['S1_13...   \n",
       "2    {'apply_water_mask': True, 'granules': ['S1_13...   \n",
       "3    {'apply_water_mask': True, 'granules': ['S1_13...   \n",
       "4    {'apply_water_mask': True, 'granules': ['S1_13...   \n",
       "..                                                 ...   \n",
       "342  {'granules': ['S1_245655_IW3_20220703T141349_V...   \n",
       "343  {'granules': ['S1_245655_IW3_20220703T141349_V...   \n",
       "344  {'apply_water_mask': True, 'granules': ['S1_24...   \n",
       "345  {'granules': ['S1_245655_IW3_20220727T141350_V...   \n",
       "346  {'granules': ['S1_245655_IW3_20220727T141350_V...   \n",
       "\n",
       "                                                 files logs   \n",
       "0                                                  NaN  NaN  \\\n",
       "1                                                  NaN  NaN   \n",
       "2                                                  NaN  NaN   \n",
       "3                                                  NaN  NaN   \n",
       "4    [{'filename': 'S1_135602_IW1_20200926_20201008...   []   \n",
       "..                                                 ...  ...   \n",
       "342  [{'filename': 'S1_245655_IW3_20220703_20230710...   []   \n",
       "343  [{'filename': 'S1_245655_IW3_20220703_20230710...   []   \n",
       "344  [{'filename': 'S1_245655_IW3_20220727_20230722...   []   \n",
       "345  [{'filename': 'S1_245655_IW3_20220727_20230722...   []   \n",
       "346  [{'filename': 'S1_245655_IW3_20220727_20230722...   []   \n",
       "\n",
       "                                         browse_images   \n",
       "0                                                  NaN  \\\n",
       "1                                                  NaN   \n",
       "2                                                  NaN   \n",
       "3                                                  NaN   \n",
       "4    [https://d3gm2hf49xd6jj.cloudfront.net/a226e75...   \n",
       "..                                                 ...   \n",
       "342  [https://d3gm2hf49xd6jj.cloudfront.net/e603568...   \n",
       "343  [https://d3gm2hf49xd6jj.cloudfront.net/e91d286...   \n",
       "344  [https://d3gm2hf49xd6jj.cloudfront.net/5a804b9...   \n",
       "345  [https://d3gm2hf49xd6jj.cloudfront.net/7c2b6d9...   \n",
       "346  [https://d3gm2hf49xd6jj.cloudfront.net/cfd3566...   \n",
       "\n",
       "                                      thumbnail_images   \n",
       "0                                                  NaN  \\\n",
       "1                                                  NaN   \n",
       "2                                                  NaN   \n",
       "3                                                  NaN   \n",
       "4    [https://d3gm2hf49xd6jj.cloudfront.net/a226e75...   \n",
       "..                                                 ...   \n",
       "342  [https://d3gm2hf49xd6jj.cloudfront.net/e603568...   \n",
       "343  [https://d3gm2hf49xd6jj.cloudfront.net/e91d286...   \n",
       "344  [https://d3gm2hf49xd6jj.cloudfront.net/5a804b9...   \n",
       "345  [https://d3gm2hf49xd6jj.cloudfront.net/7c2b6d9...   \n",
       "346  [https://d3gm2hf49xd6jj.cloudfront.net/cfd3566...   \n",
       "\n",
       "               expiration_time processing_times  \n",
       "0                          NaN              NaN  \n",
       "1                          NaN              NaN  \n",
       "2                          NaN              NaN  \n",
       "3                          NaN              NaN  \n",
       "4    2023-12-24T00:00:00+00:00       [1298.542]  \n",
       "..                         ...              ...  \n",
       "342  2023-12-22T00:00:00+00:00       [1224.588]  \n",
       "343  2023-12-22T00:00:00+00:00       [1224.607]  \n",
       "344  2023-12-22T00:00:00+00:00         [569.17]  \n",
       "345  2023-12-22T00:00:00+00:00       [1111.138]  \n",
       "346  2023-12-22T00:00:00+00:00        [490.117]  \n",
       "\n",
       "[347 rows x 13 columns]"
      ]
     },
     "execution_count": 18,
     "metadata": {},
     "output_type": "execute_result"
    }
   ],
   "source": [
    "df = pd.DataFrame([x.to_dict() for x in b])\n",
    "df"
   ]
  }
 ],
 "metadata": {
  "kernelspec": {
   "display_name": "Python [conda env:.local-hyp3-isce2]",
   "language": "python",
   "name": "conda-env-.local-hyp3-isce2-py"
  },
  "language_info": {
   "codemirror_mode": {
    "name": "ipython",
    "version": 3
   },
   "file_extension": ".py",
   "mimetype": "text/x-python",
   "name": "python",
   "nbconvert_exporter": "python",
   "pygments_lexer": "ipython3",
   "version": "3.11.3"
  }
 },
 "nbformat": 4,
 "nbformat_minor": 5
}
